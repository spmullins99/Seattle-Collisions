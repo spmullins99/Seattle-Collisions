{
 "cells": [
  {
   "cell_type": "markdown",
   "metadata": {
    "collapsed": true
   },
   "source": [
    "# Seattle Collisions (2003-2020) Data Analysis"
   ]
  },
  {
   "cell_type": "markdown",
   "metadata": {},
   "source": [
    "### In this project an attempt is made to analyse the severity of car crashes given certain conditions for the capstone project associated with the IBM Data Science Professional Certificate\n"
   ]
  },
  {
   "cell_type": "code",
   "execution_count": 1,
   "metadata": {},
   "outputs": [
    {
     "name": "stdout",
     "output_type": "stream",
     "text": [
      "Hello Capstone Project Course!\n"
     ]
    }
   ],
   "source": [
    "import pandas as pd\n",
    "import numpy as np\n",
    "print(\"Hello Capstone Project Course!\")"
   ]
  },
  {
   "cell_type": "markdown",
   "metadata": {},
   "source": [
    "### Data Understanding and Preprocessing "
   ]
  },
  {
   "cell_type": "code",
   "execution_count": 2,
   "metadata": {},
   "outputs": [
    {
     "data": {
      "text/html": [
       "<div>\n",
       "<style scoped>\n",
       "    .dataframe tbody tr th:only-of-type {\n",
       "        vertical-align: middle;\n",
       "    }\n",
       "\n",
       "    .dataframe tbody tr th {\n",
       "        vertical-align: top;\n",
       "    }\n",
       "\n",
       "    .dataframe thead th {\n",
       "        text-align: right;\n",
       "    }\n",
       "</style>\n",
       "<table border=\"1\" class=\"dataframe\">\n",
       "  <thead>\n",
       "    <tr style=\"text-align: right;\">\n",
       "      <th></th>\n",
       "      <th>X</th>\n",
       "      <th>Y</th>\n",
       "      <th>OBJECTID</th>\n",
       "      <th>INCKEY</th>\n",
       "      <th>COLDETKEY</th>\n",
       "      <th>REPORTNO</th>\n",
       "      <th>STATUS</th>\n",
       "      <th>ADDRTYPE</th>\n",
       "      <th>INTKEY</th>\n",
       "      <th>LOCATION</th>\n",
       "      <th>...</th>\n",
       "      <th>ROADCOND</th>\n",
       "      <th>LIGHTCOND</th>\n",
       "      <th>PEDROWNOTGRNT</th>\n",
       "      <th>SDOTCOLNUM</th>\n",
       "      <th>SPEEDING</th>\n",
       "      <th>ST_COLCODE</th>\n",
       "      <th>ST_COLDESC</th>\n",
       "      <th>SEGLANEKEY</th>\n",
       "      <th>CROSSWALKKEY</th>\n",
       "      <th>HITPARKEDCAR</th>\n",
       "    </tr>\n",
       "  </thead>\n",
       "  <tbody>\n",
       "    <tr>\n",
       "      <td>0</td>\n",
       "      <td>-122.309876</td>\n",
       "      <td>47.639559</td>\n",
       "      <td>1</td>\n",
       "      <td>74300</td>\n",
       "      <td>74300</td>\n",
       "      <td>2827840</td>\n",
       "      <td>Matched</td>\n",
       "      <td>Block</td>\n",
       "      <td>NaN</td>\n",
       "      <td>E LYNN ST BETWEEN BOYER AVE E AND 18TH AVE E</td>\n",
       "      <td>...</td>\n",
       "      <td>Dry</td>\n",
       "      <td>Daylight</td>\n",
       "      <td>NaN</td>\n",
       "      <td>7259018.0</td>\n",
       "      <td>NaN</td>\n",
       "      <td>32</td>\n",
       "      <td>One parked--one moving</td>\n",
       "      <td>0</td>\n",
       "      <td>0</td>\n",
       "      <td>N</td>\n",
       "    </tr>\n",
       "    <tr>\n",
       "      <td>1</td>\n",
       "      <td>-122.342572</td>\n",
       "      <td>47.607795</td>\n",
       "      <td>2</td>\n",
       "      <td>56900</td>\n",
       "      <td>56900</td>\n",
       "      <td>2625188</td>\n",
       "      <td>Matched</td>\n",
       "      <td>Block</td>\n",
       "      <td>NaN</td>\n",
       "      <td>ALASKAN WAY BETWEEN ALASKAN E RDWY WAY AND PIK...</td>\n",
       "      <td>...</td>\n",
       "      <td>Dry</td>\n",
       "      <td>Daylight</td>\n",
       "      <td>NaN</td>\n",
       "      <td>6328024.0</td>\n",
       "      <td>NaN</td>\n",
       "      <td>32</td>\n",
       "      <td>One parked--one moving</td>\n",
       "      <td>0</td>\n",
       "      <td>0</td>\n",
       "      <td>N</td>\n",
       "    </tr>\n",
       "    <tr>\n",
       "      <td>2</td>\n",
       "      <td>-122.319539</td>\n",
       "      <td>47.619917</td>\n",
       "      <td>3</td>\n",
       "      <td>61600</td>\n",
       "      <td>61600</td>\n",
       "      <td>2617309</td>\n",
       "      <td>Matched</td>\n",
       "      <td>Intersection</td>\n",
       "      <td>29053.0</td>\n",
       "      <td>10TH AVE E AND E JOHN ST</td>\n",
       "      <td>...</td>\n",
       "      <td>Dry</td>\n",
       "      <td>Daylight</td>\n",
       "      <td>NaN</td>\n",
       "      <td>6361017.0</td>\n",
       "      <td>NaN</td>\n",
       "      <td>10</td>\n",
       "      <td>Entering at angle</td>\n",
       "      <td>0</td>\n",
       "      <td>0</td>\n",
       "      <td>N</td>\n",
       "    </tr>\n",
       "    <tr>\n",
       "      <td>3</td>\n",
       "      <td>-122.344997</td>\n",
       "      <td>47.725036</td>\n",
       "      <td>4</td>\n",
       "      <td>325640</td>\n",
       "      <td>327140</td>\n",
       "      <td>E955226</td>\n",
       "      <td>Matched</td>\n",
       "      <td>Block</td>\n",
       "      <td>NaN</td>\n",
       "      <td>AURORA AVE N BETWEEN N 130TH ST AND N 135TH ST</td>\n",
       "      <td>...</td>\n",
       "      <td>Dry</td>\n",
       "      <td>Daylight</td>\n",
       "      <td>NaN</td>\n",
       "      <td>NaN</td>\n",
       "      <td>NaN</td>\n",
       "      <td>10</td>\n",
       "      <td>Entering at angle</td>\n",
       "      <td>0</td>\n",
       "      <td>0</td>\n",
       "      <td>N</td>\n",
       "    </tr>\n",
       "    <tr>\n",
       "      <td>4</td>\n",
       "      <td>-122.325059</td>\n",
       "      <td>47.598352</td>\n",
       "      <td>5</td>\n",
       "      <td>325615</td>\n",
       "      <td>327115</td>\n",
       "      <td>E978670</td>\n",
       "      <td>Matched</td>\n",
       "      <td>Intersection</td>\n",
       "      <td>30515.0</td>\n",
       "      <td>MAYNARD AVE S AND S KING ST</td>\n",
       "      <td>...</td>\n",
       "      <td>Dry</td>\n",
       "      <td>Daylight</td>\n",
       "      <td>NaN</td>\n",
       "      <td>NaN</td>\n",
       "      <td>NaN</td>\n",
       "      <td>0</td>\n",
       "      <td>Vehicle going straight hits pedestrian</td>\n",
       "      <td>0</td>\n",
       "      <td>0</td>\n",
       "      <td>N</td>\n",
       "    </tr>\n",
       "  </tbody>\n",
       "</table>\n",
       "<p>5 rows × 40 columns</p>\n",
       "</div>"
      ],
      "text/plain": [
       "            X          Y  OBJECTID  INCKEY  COLDETKEY REPORTNO   STATUS  \\\n",
       "0 -122.309876  47.639559         1   74300      74300  2827840  Matched   \n",
       "1 -122.342572  47.607795         2   56900      56900  2625188  Matched   \n",
       "2 -122.319539  47.619917         3   61600      61600  2617309  Matched   \n",
       "3 -122.344997  47.725036         4  325640     327140  E955226  Matched   \n",
       "4 -122.325059  47.598352         5  325615     327115  E978670  Matched   \n",
       "\n",
       "       ADDRTYPE   INTKEY                                           LOCATION  \\\n",
       "0         Block      NaN       E LYNN ST BETWEEN BOYER AVE E AND 18TH AVE E   \n",
       "1         Block      NaN  ALASKAN WAY BETWEEN ALASKAN E RDWY WAY AND PIK...   \n",
       "2  Intersection  29053.0                           10TH AVE E AND E JOHN ST   \n",
       "3         Block      NaN     AURORA AVE N BETWEEN N 130TH ST AND N 135TH ST   \n",
       "4  Intersection  30515.0                        MAYNARD AVE S AND S KING ST   \n",
       "\n",
       "   ... ROADCOND LIGHTCOND PEDROWNOTGRNT SDOTCOLNUM SPEEDING  ST_COLCODE  \\\n",
       "0  ...      Dry  Daylight           NaN  7259018.0      NaN          32   \n",
       "1  ...      Dry  Daylight           NaN  6328024.0      NaN          32   \n",
       "2  ...      Dry  Daylight           NaN  6361017.0      NaN          10   \n",
       "3  ...      Dry  Daylight           NaN        NaN      NaN          10   \n",
       "4  ...      Dry  Daylight           NaN        NaN      NaN           0   \n",
       "\n",
       "                               ST_COLDESC  SEGLANEKEY  CROSSWALKKEY  \\\n",
       "0                  One parked--one moving           0             0   \n",
       "1                  One parked--one moving           0             0   \n",
       "2                       Entering at angle           0             0   \n",
       "3                       Entering at angle           0             0   \n",
       "4  Vehicle going straight hits pedestrian           0             0   \n",
       "\n",
       "   HITPARKEDCAR  \n",
       "0             N  \n",
       "1             N  \n",
       "2             N  \n",
       "3             N  \n",
       "4             N  \n",
       "\n",
       "[5 rows x 40 columns]"
      ]
     },
     "execution_count": 2,
     "metadata": {},
     "output_type": "execute_result"
    }
   ],
   "source": [
    "df=pd.read_csv(r\"C:\\Users\\shane\\Documents\\Collisions.csv\")\n",
    "df.head()"
   ]
  },
  {
   "cell_type": "code",
   "execution_count": 3,
   "metadata": {},
   "outputs": [],
   "source": [
    "import matplotlib.pyplot as plt\n",
    "import pylab as pl\n",
    "%matplotlib inline"
   ]
  },
  {
   "cell_type": "code",
   "execution_count": 4,
   "metadata": {},
   "outputs": [
    {
     "data": {
      "text/html": [
       "<div>\n",
       "<style scoped>\n",
       "    .dataframe tbody tr th:only-of-type {\n",
       "        vertical-align: middle;\n",
       "    }\n",
       "\n",
       "    .dataframe tbody tr th {\n",
       "        vertical-align: top;\n",
       "    }\n",
       "\n",
       "    .dataframe thead th {\n",
       "        text-align: right;\n",
       "    }\n",
       "</style>\n",
       "<table border=\"1\" class=\"dataframe\">\n",
       "  <thead>\n",
       "    <tr style=\"text-align: right;\">\n",
       "      <th></th>\n",
       "      <th>X</th>\n",
       "      <th>Y</th>\n",
       "      <th>OBJECTID</th>\n",
       "      <th>INCKEY</th>\n",
       "      <th>COLDETKEY</th>\n",
       "      <th>INTKEY</th>\n",
       "      <th>PERSONCOUNT</th>\n",
       "      <th>PEDCOUNT</th>\n",
       "      <th>PEDCYLCOUNT</th>\n",
       "      <th>VEHCOUNT</th>\n",
       "      <th>INJURIES</th>\n",
       "      <th>SERIOUSINJURIES</th>\n",
       "      <th>FATALITIES</th>\n",
       "      <th>SDOT_COLCODE</th>\n",
       "      <th>SDOTCOLNUM</th>\n",
       "      <th>SEGLANEKEY</th>\n",
       "      <th>CROSSWALKKEY</th>\n",
       "    </tr>\n",
       "  </thead>\n",
       "  <tbody>\n",
       "    <tr>\n",
       "      <td>count</td>\n",
       "      <td>213346.000000</td>\n",
       "      <td>213346.000000</td>\n",
       "      <td>220812.000000</td>\n",
       "      <td>220812.000000</td>\n",
       "      <td>220812.000000</td>\n",
       "      <td>71645.000000</td>\n",
       "      <td>220812.000000</td>\n",
       "      <td>220812.00000</td>\n",
       "      <td>220812.000000</td>\n",
       "      <td>220812.000000</td>\n",
       "      <td>220812.000000</td>\n",
       "      <td>220812.000000</td>\n",
       "      <td>220812.000000</td>\n",
       "      <td>220811.000000</td>\n",
       "      <td>1.272050e+05</td>\n",
       "      <td>220812.000000</td>\n",
       "      <td>2.208120e+05</td>\n",
       "    </tr>\n",
       "    <tr>\n",
       "      <td>mean</td>\n",
       "      <td>-122.330748</td>\n",
       "      <td>47.620213</td>\n",
       "      <td>110406.500000</td>\n",
       "      <td>144215.422599</td>\n",
       "      <td>144440.331993</td>\n",
       "      <td>37612.833415</td>\n",
       "      <td>2.227094</td>\n",
       "      <td>0.03815</td>\n",
       "      <td>0.027317</td>\n",
       "      <td>1.730925</td>\n",
       "      <td>0.373847</td>\n",
       "      <td>0.015176</td>\n",
       "      <td>0.001680</td>\n",
       "      <td>13.382286</td>\n",
       "      <td>7.971063e+06</td>\n",
       "      <td>261.979109</td>\n",
       "      <td>9.605796e+03</td>\n",
       "    </tr>\n",
       "    <tr>\n",
       "      <td>std</td>\n",
       "      <td>0.030049</td>\n",
       "      <td>0.056022</td>\n",
       "      <td>63743.078158</td>\n",
       "      <td>88718.485145</td>\n",
       "      <td>89088.682466</td>\n",
       "      <td>51891.668870</td>\n",
       "      <td>1.471089</td>\n",
       "      <td>0.20185</td>\n",
       "      <td>0.164418</td>\n",
       "      <td>0.829354</td>\n",
       "      <td>0.732207</td>\n",
       "      <td>0.158055</td>\n",
       "      <td>0.044557</td>\n",
       "      <td>7.304197</td>\n",
       "      <td>2.611523e+06</td>\n",
       "      <td>3252.166951</td>\n",
       "      <td>7.156640e+04</td>\n",
       "    </tr>\n",
       "    <tr>\n",
       "      <td>min</td>\n",
       "      <td>-122.419091</td>\n",
       "      <td>47.495573</td>\n",
       "      <td>1.000000</td>\n",
       "      <td>1001.000000</td>\n",
       "      <td>1001.000000</td>\n",
       "      <td>23807.000000</td>\n",
       "      <td>0.000000</td>\n",
       "      <td>0.00000</td>\n",
       "      <td>0.000000</td>\n",
       "      <td>0.000000</td>\n",
       "      <td>0.000000</td>\n",
       "      <td>0.000000</td>\n",
       "      <td>0.000000</td>\n",
       "      <td>0.000000</td>\n",
       "      <td>1.007024e+06</td>\n",
       "      <td>0.000000</td>\n",
       "      <td>0.000000e+00</td>\n",
       "    </tr>\n",
       "    <tr>\n",
       "      <td>25%</td>\n",
       "      <td>-122.349280</td>\n",
       "      <td>47.577331</td>\n",
       "      <td>55203.750000</td>\n",
       "      <td>71489.750000</td>\n",
       "      <td>71489.750000</td>\n",
       "      <td>28653.000000</td>\n",
       "      <td>2.000000</td>\n",
       "      <td>0.00000</td>\n",
       "      <td>0.000000</td>\n",
       "      <td>2.000000</td>\n",
       "      <td>0.000000</td>\n",
       "      <td>0.000000</td>\n",
       "      <td>0.000000</td>\n",
       "      <td>11.000000</td>\n",
       "      <td>6.007029e+06</td>\n",
       "      <td>0.000000</td>\n",
       "      <td>0.000000e+00</td>\n",
       "    </tr>\n",
       "    <tr>\n",
       "      <td>50%</td>\n",
       "      <td>-122.330348</td>\n",
       "      <td>47.616078</td>\n",
       "      <td>110406.500000</td>\n",
       "      <td>126895.500000</td>\n",
       "      <td>126895.500000</td>\n",
       "      <td>29973.000000</td>\n",
       "      <td>2.000000</td>\n",
       "      <td>0.00000</td>\n",
       "      <td>0.000000</td>\n",
       "      <td>2.000000</td>\n",
       "      <td>0.000000</td>\n",
       "      <td>0.000000</td>\n",
       "      <td>0.000000</td>\n",
       "      <td>11.000000</td>\n",
       "      <td>8.033011e+06</td>\n",
       "      <td>0.000000</td>\n",
       "      <td>0.000000e+00</td>\n",
       "    </tr>\n",
       "    <tr>\n",
       "      <td>75%</td>\n",
       "      <td>-122.311998</td>\n",
       "      <td>47.664234</td>\n",
       "      <td>165609.250000</td>\n",
       "      <td>209020.250000</td>\n",
       "      <td>209240.250000</td>\n",
       "      <td>33983.000000</td>\n",
       "      <td>3.000000</td>\n",
       "      <td>0.00000</td>\n",
       "      <td>0.000000</td>\n",
       "      <td>2.000000</td>\n",
       "      <td>1.000000</td>\n",
       "      <td>0.000000</td>\n",
       "      <td>0.000000</td>\n",
       "      <td>14.000000</td>\n",
       "      <td>1.018101e+07</td>\n",
       "      <td>0.000000</td>\n",
       "      <td>0.000000e+00</td>\n",
       "    </tr>\n",
       "    <tr>\n",
       "      <td>max</td>\n",
       "      <td>-122.238949</td>\n",
       "      <td>47.734142</td>\n",
       "      <td>220812.000000</td>\n",
       "      <td>333106.000000</td>\n",
       "      <td>334606.000000</td>\n",
       "      <td>757580.000000</td>\n",
       "      <td>93.000000</td>\n",
       "      <td>6.00000</td>\n",
       "      <td>2.000000</td>\n",
       "      <td>15.000000</td>\n",
       "      <td>78.000000</td>\n",
       "      <td>41.000000</td>\n",
       "      <td>5.000000</td>\n",
       "      <td>87.000000</td>\n",
       "      <td>1.307202e+07</td>\n",
       "      <td>525241.000000</td>\n",
       "      <td>5.239700e+06</td>\n",
       "    </tr>\n",
       "  </tbody>\n",
       "</table>\n",
       "</div>"
      ],
      "text/plain": [
       "                   X              Y       OBJECTID         INCKEY  \\\n",
       "count  213346.000000  213346.000000  220812.000000  220812.000000   \n",
       "mean     -122.330748      47.620213  110406.500000  144215.422599   \n",
       "std         0.030049       0.056022   63743.078158   88718.485145   \n",
       "min      -122.419091      47.495573       1.000000    1001.000000   \n",
       "25%      -122.349280      47.577331   55203.750000   71489.750000   \n",
       "50%      -122.330348      47.616078  110406.500000  126895.500000   \n",
       "75%      -122.311998      47.664234  165609.250000  209020.250000   \n",
       "max      -122.238949      47.734142  220812.000000  333106.000000   \n",
       "\n",
       "           COLDETKEY         INTKEY    PERSONCOUNT      PEDCOUNT  \\\n",
       "count  220812.000000   71645.000000  220812.000000  220812.00000   \n",
       "mean   144440.331993   37612.833415       2.227094       0.03815   \n",
       "std     89088.682466   51891.668870       1.471089       0.20185   \n",
       "min      1001.000000   23807.000000       0.000000       0.00000   \n",
       "25%     71489.750000   28653.000000       2.000000       0.00000   \n",
       "50%    126895.500000   29973.000000       2.000000       0.00000   \n",
       "75%    209240.250000   33983.000000       3.000000       0.00000   \n",
       "max    334606.000000  757580.000000      93.000000       6.00000   \n",
       "\n",
       "         PEDCYLCOUNT       VEHCOUNT       INJURIES  SERIOUSINJURIES  \\\n",
       "count  220812.000000  220812.000000  220812.000000    220812.000000   \n",
       "mean        0.027317       1.730925       0.373847         0.015176   \n",
       "std         0.164418       0.829354       0.732207         0.158055   \n",
       "min         0.000000       0.000000       0.000000         0.000000   \n",
       "25%         0.000000       2.000000       0.000000         0.000000   \n",
       "50%         0.000000       2.000000       0.000000         0.000000   \n",
       "75%         0.000000       2.000000       1.000000         0.000000   \n",
       "max         2.000000      15.000000      78.000000        41.000000   \n",
       "\n",
       "          FATALITIES   SDOT_COLCODE    SDOTCOLNUM     SEGLANEKEY  CROSSWALKKEY  \n",
       "count  220812.000000  220811.000000  1.272050e+05  220812.000000  2.208120e+05  \n",
       "mean        0.001680      13.382286  7.971063e+06     261.979109  9.605796e+03  \n",
       "std         0.044557       7.304197  2.611523e+06    3252.166951  7.156640e+04  \n",
       "min         0.000000       0.000000  1.007024e+06       0.000000  0.000000e+00  \n",
       "25%         0.000000      11.000000  6.007029e+06       0.000000  0.000000e+00  \n",
       "50%         0.000000      11.000000  8.033011e+06       0.000000  0.000000e+00  \n",
       "75%         0.000000      14.000000  1.018101e+07       0.000000  0.000000e+00  \n",
       "max         5.000000      87.000000  1.307202e+07  525241.000000  5.239700e+06  "
      ]
     },
     "execution_count": 4,
     "metadata": {},
     "output_type": "execute_result"
    }
   ],
   "source": [
    "df.describe()"
   ]
  },
  {
   "cell_type": "code",
   "execution_count": 5,
   "metadata": {},
   "outputs": [
    {
     "data": {
      "text/plain": [
       "(220812, 40)"
      ]
     },
     "execution_count": 5,
     "metadata": {},
     "output_type": "execute_result"
    }
   ],
   "source": [
    "df.shape"
   ]
  },
  {
   "cell_type": "code",
   "execution_count": 6,
   "metadata": {},
   "outputs": [
    {
     "data": {
      "text/plain": [
       "Index(['X', 'Y', 'OBJECTID', 'INCKEY', 'COLDETKEY', 'REPORTNO', 'STATUS',\n",
       "       'ADDRTYPE', 'INTKEY', 'LOCATION', 'EXCEPTRSNCODE', 'EXCEPTRSNDESC',\n",
       "       'SEVERITYCODE', 'SEVERITYDESC', 'COLLISIONTYPE', 'PERSONCOUNT',\n",
       "       'PEDCOUNT', 'PEDCYLCOUNT', 'VEHCOUNT', 'INJURIES', 'SERIOUSINJURIES',\n",
       "       'FATALITIES', 'INCDATE', 'INCDTTM', 'JUNCTIONTYPE', 'SDOT_COLCODE',\n",
       "       'SDOT_COLDESC', 'INATTENTIONIND', 'UNDERINFL', 'WEATHER', 'ROADCOND',\n",
       "       'LIGHTCOND', 'PEDROWNOTGRNT', 'SDOTCOLNUM', 'SPEEDING', 'ST_COLCODE',\n",
       "       'ST_COLDESC', 'SEGLANEKEY', 'CROSSWALKKEY', 'HITPARKEDCAR'],\n",
       "      dtype='object')"
      ]
     },
     "execution_count": 6,
     "metadata": {},
     "output_type": "execute_result"
    }
   ],
   "source": [
    "df.columns"
   ]
  },
  {
   "cell_type": "code",
   "execution_count": 7,
   "metadata": {
    "scrolled": true
   },
   "outputs": [
    {
     "data": {
      "text/plain": [
       "X                  float64\n",
       "Y                  float64\n",
       "OBJECTID             int64\n",
       "INCKEY               int64\n",
       "COLDETKEY            int64\n",
       "REPORTNO            object\n",
       "STATUS              object\n",
       "ADDRTYPE            object\n",
       "INTKEY             float64\n",
       "LOCATION            object\n",
       "EXCEPTRSNCODE       object\n",
       "EXCEPTRSNDESC       object\n",
       "SEVERITYCODE        object\n",
       "SEVERITYDESC        object\n",
       "COLLISIONTYPE       object\n",
       "PERSONCOUNT          int64\n",
       "PEDCOUNT             int64\n",
       "PEDCYLCOUNT          int64\n",
       "VEHCOUNT             int64\n",
       "INJURIES             int64\n",
       "SERIOUSINJURIES      int64\n",
       "FATALITIES           int64\n",
       "INCDATE             object\n",
       "INCDTTM             object\n",
       "JUNCTIONTYPE        object\n",
       "SDOT_COLCODE       float64\n",
       "SDOT_COLDESC        object\n",
       "INATTENTIONIND      object\n",
       "UNDERINFL           object\n",
       "WEATHER             object\n",
       "ROADCOND            object\n",
       "LIGHTCOND           object\n",
       "PEDROWNOTGRNT       object\n",
       "SDOTCOLNUM         float64\n",
       "SPEEDING            object\n",
       "ST_COLCODE          object\n",
       "ST_COLDESC          object\n",
       "SEGLANEKEY           int64\n",
       "CROSSWALKKEY         int64\n",
       "HITPARKEDCAR        object\n",
       "dtype: object"
      ]
     },
     "execution_count": 7,
     "metadata": {},
     "output_type": "execute_result"
    }
   ],
   "source": [
    "df.dtypes"
   ]
  },
  {
   "cell_type": "code",
   "execution_count": 8,
   "metadata": {},
   "outputs": [
    {
     "data": {
      "text/plain": [
       "1     137240\n",
       "2      58574\n",
       "0      21561\n",
       "2b      3088\n",
       "3        348\n",
       "Name: SEVERITYCODE, dtype: int64"
      ]
     },
     "execution_count": 8,
     "metadata": {},
     "output_type": "execute_result"
    }
   ],
   "source": [
    "df['SEVERITYCODE'].value_counts()    # We see an imbalance here with severity code = 1 being overwhelmingly the most common value\n",
    "                                     # We will fix this later on, fist let's examine the data"
   ]
  },
  {
   "cell_type": "markdown",
   "metadata": {},
   "source": [
    "#### All plots refer to Seattle (2003-2020) unless otherwise stated"
   ]
  },
  {
   "cell_type": "code",
   "execution_count": 9,
   "metadata": {},
   "outputs": [
    {
     "data": {
      "text/plain": [
       "Text(0.5, 1.0, 'Number of Collisions vs Severity')"
      ]
     },
     "execution_count": 9,
     "metadata": {},
     "output_type": "execute_result"
    },
    {
     "data": {
      "image/png": "[encoded data removed]",
      "text/plain": [
       "<Figure size 720x432 with 1 Axes>"
      ]
     },
     "metadata": {
      "needs_background": "light"
     },
     "output_type": "display_data"
    }
   ],
   "source": [
    "# Let's plot this\n",
    "df['SEVERITYCODE'].value_counts(ascending=True).plot(kind='bar', figsize=(10, 6), rot = 'horizontal', color='m')\n",
    "plt.xlabel('Severity', fontsize=14) # add to x-label to the plot\n",
    "plt.ylabel('Number of Collisions', fontsize=14) # add y-label to the plot\n",
    "plt.title('Number of Collisions vs Severity',fontsize=16) # add title to the plot"
   ]
  },
  {
   "cell_type": "code",
   "execution_count": 10,
   "metadata": {},
   "outputs": [],
   "source": [
    "# Let's add some extra columns and create some new dataframes\n",
    "df['PED/CYL']=(df['PEDCOUNT'].values)+(df['PEDCYLCOUNT'].values) # Combines pedestrian and cyclist involvement\n",
    "df['INJ/FAT']=(df['SERIOUSINJURIES'].values)+(df['FATALITIES'].values) # Combines both serious injuris and fatalities\n",
    "df['INCDTTM']=pd.to_datetime(df['INCDTTM']) # Change format of timestamp to extract hours, years...\n",
    "\n",
    "# Create 4 new columns splitting the time into periods of the day, each column contains binary data\n",
    "df['MORNING']=np.where((df['INCDTTM'].dt.hour >= 7) & (df['INCDTTM'].dt.hour < 12), 1, 0)    # Morning 7am-12pm\n",
    "df['AFTERNOON']=np.where((df['INCDTTM'].dt.hour >= 12) & (df['INCDTTM'].dt.hour < 18), 1, 0) # Afternoon 12pm-6pm\n",
    "df['EVENING']=np.where((df['INCDTTM'].dt.hour >= 18), 1, 0)                                  # Evening 6pm-12am\n",
    "df['NIGHT']=np.where((df['INCDTTM'].dt.hour >= 0) & (df['INCDTTM'].dt.hour < 7), 1, 0)       # Night 12am-7am\n",
    "\n",
    "# splitting dataset up into periods of the day\n",
    "df_morn=df[(df['MORNING']==1)]\n",
    "df_after=df[(df['AFTERNOON']==1)]\n",
    "df_eve=df[(df['EVENING']==1)]\n",
    "df_night=df[(df['NIGHT']==1)]\n",
    "\n",
    "# Defining 5 new dataframes for each severity category\n",
    "df0=df[(df['SEVERITYCODE']=='0')]\n",
    "df1=df[(df['SEVERITYCODE']=='1')]\n",
    "df2=df[(df['SEVERITYCODE']=='2')]\n",
    "df3=df[(df['SEVERITYCODE']=='3')]\n",
    "df2b=df[(df['SEVERITYCODE']=='2b')]"
   ]
  },
  {
   "cell_type": "code",
   "execution_count": 11,
   "metadata": {},
   "outputs": [
    {
     "data": {
      "text/plain": [
       "Text(0.5, 1.0, 'Locations with Highest Number of Severe Collisions')"
      ]
     },
     "execution_count": 11,
     "metadata": {},
     "output_type": "execute_result"
    },
    {
     "data": {
      "image/png": "[encoded data removed]",
      "text/plain": [
       "<Figure size 720x432 with 1 Axes>"
      ]
     },
     "metadata": {
      "needs_background": "light"
     },
     "output_type": "display_data"
    }
   ],
   "source": [
    "# Plot of 8 locations with most sever collisions\n",
    "df3['LOCATION'].value_counts().head(8).plot(kind='barh', figsize=(10, 6), rot = 'horizontal')\n",
    "plt.xlabel('Severity', fontsize=14) # add to x-label to the plot\n",
    "plt.ylabel('Locations', fontsize=14) # add y-label to the plot\n",
    "plt.title('Locations with Highest Number of Severe Collisions',fontsize=16) # add title to the plot"
   ]
  },
  {
   "cell_type": "code",
   "execution_count": 12,
   "metadata": {},
   "outputs": [
    {
     "name": "stdout",
     "output_type": "stream",
     "text": [
      "Collecting package metadata (current_repodata.json): ...working... done\n",
      "Solving environment: ...working... done\n",
      "\n",
      "# All requested packages already installed.\n",
      "\n",
      "Folium installed and imported!\n"
     ]
    }
   ],
   "source": [
    "!conda install -c conda-forge folium=0.5.0 --yes\n",
    "import folium\n",
    "\n",
    "print('Folium installed and imported!')"
   ]
  },
  {
   "cell_type": "code",
   "execution_count": 13,
   "metadata": {},
   "outputs": [],
   "source": [
    "# Coordinates of Seattle\n",
    "latitude = 47.6\n",
    "longitude = -122.3"
   ]
  },
  {
   "cell_type": "code",
   "execution_count": 14,
   "metadata": {},
   "outputs": [
    {
     "data": {
      "text/html": [
       "<div style=\"width:100%;\"><div style=\"position:relative;width:100%;height:0;padding-bottom:60%;\"><span style=\"color:#565656\">Make this Notebook Trusted to load map: File -> Trust Notebook</span><iframe src=\"about:blank\" style=\"position:absolute;width:100%;height:100%;left:0;top:0;border:none !important;\" data-html=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 onload=\"this.contentDocument.open();this.contentDocument.write(atob(this.getAttribute('data-html')));this.contentDocument.close();\" allowfullscreen webkitallowfullscreen mozallowfullscreen></iframe></div></div>"
      ],
      "text/plain": [
       "<folium.folium.Map at 0x1d90468fc88>"
      ]
     },
     "execution_count": 14,
     "metadata": {},
     "output_type": "execute_result"
    }
   ],
   "source": [
    "seattle_map = folium.Map(location=[latitude, longitude], zoom_start=11)\n",
    "seattle_map"
   ]
  },
  {
   "cell_type": "code",
   "execution_count": 15,
   "metadata": {},
   "outputs": [
    {
     "data": {
      "text/plain": [
       "NaN          9\n",
       "47.519422    3\n",
       "47.634735    3\n",
       "47.589746    3\n",
       "47.643120    3\n",
       "            ..\n",
       "47.561829    1\n",
       "47.590308    1\n",
       "47.708586    1\n",
       "47.531874    1\n",
       "47.578712    1\n",
       "Name: Y, Length: 317, dtype: int64"
      ]
     },
     "execution_count": 15,
     "metadata": {},
     "output_type": "execute_result"
    }
   ],
   "source": [
    "df3['Y'].value_counts(dropna=False) # We need to get rid of Na values"
   ]
  },
  {
   "cell_type": "code",
   "execution_count": 16,
   "metadata": {},
   "outputs": [
    {
     "data": {
      "text/plain": [
       " NaN           9\n",
       "-122.279742    3\n",
       "-122.343472    3\n",
       "-122.344071    3\n",
       "-122.337486    3\n",
       "              ..\n",
       "-122.361092    1\n",
       "-122.355339    1\n",
       "-122.328225    1\n",
       "-122.337087    1\n",
       "-122.327624    1\n",
       "Name: X, Length: 317, dtype: int64"
      ]
     },
     "execution_count": 16,
     "metadata": {},
     "output_type": "execute_result"
    }
   ],
   "source": [
    "df3_new=df3 # Create copy of dataframe only pertaining to severity = 3\n",
    "df3_new['X'].value_counts(dropna=False)"
   ]
  },
  {
   "cell_type": "code",
   "execution_count": 17,
   "metadata": {},
   "outputs": [],
   "source": [
    "df3_new = df3_new[pd.to_numeric(df3_new['X'], errors='coerce').notnull()] # Get rid of Na values in longitude columns\n",
    "df3_new = df3_new[pd.to_numeric(df3_new['Y'], errors='coerce').notnull()] # Get rid of Na values in latitude columns"
   ]
  },
  {
   "cell_type": "code",
   "execution_count": 18,
   "metadata": {},
   "outputs": [
    {
     "data": {
      "text/plain": [
       "(339, 46)"
      ]
     },
     "execution_count": 18,
     "metadata": {},
     "output_type": "execute_result"
    }
   ],
   "source": [
    "df3_new.shape"
   ]
  },
  {
   "cell_type": "code",
   "execution_count": 19,
   "metadata": {},
   "outputs": [
    {
     "data": {
      "text/plain": [
       "-122.279742    3\n",
       "-122.344071    3\n",
       "-122.343472    3\n",
       "-122.337486    3\n",
       "-122.344520    2\n",
       "              ..\n",
       "-122.361092    1\n",
       "-122.355339    1\n",
       "-122.328225    1\n",
       "-122.337087    1\n",
       "-122.295265    1\n",
       "Name: X, Length: 316, dtype: int64"
      ]
     },
     "execution_count": 19,
     "metadata": {},
     "output_type": "execute_result"
    }
   ],
   "source": [
    "df3_new['X'].value_counts(dropna=False)"
   ]
  },
  {
   "cell_type": "code",
   "execution_count": 20,
   "metadata": {},
   "outputs": [
    {
     "data": {
      "text/html": [
       "<div style=\"width:100%;\"><div style=\"position:relative;width:100%;height:0;padding-bottom:60%;\"><span style=\"color:#565656\">Make this Notebook Trusted to load map: File -> Trust Notebook</span><iframe src=\"about:blank\" style=\"position:absolute;width:100%;height:100%;left:0;top:0;border:none !important;\" data-html=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 onload=\"this.contentDocument.open();this.contentDocument.write(atob(this.getAttribute('data-html')));this.contentDocument.close();\" allowfullscreen webkitallowfullscreen mozallowfullscreen></iframe></div></div>"
      ],
      "text/plain": [
       "<folium.folium.Map at 0x1d9046b7d48>"
      ]
     },
     "execution_count": 20,
     "metadata": {},
     "output_type": "execute_result"
    }
   ],
   "source": [
    "# We will create a map displaying clusters of severe collisions and their corresponding locations\n",
    "from folium import plugins\n",
    "\n",
    "# let's start again with a clean copy of the map of Seattle\n",
    "seattle_map = folium.Map(location = [latitude, longitude], zoom_start = 11)\n",
    "\n",
    "# instantiate a mark cluster object for the incidents in the dataframe\n",
    "incidents = plugins.MarkerCluster().add_to(seattle_map)\n",
    "\n",
    "# loop through the dataframe and add each data point to the mark cluster\n",
    "for lat, lng in zip(df3_new.Y, df3_new.X):\n",
    "    folium.Marker(\n",
    "        location=[lat, lng],\n",
    "        icon=None,\n",
    "    ).add_to(incidents)\n",
    "\n",
    "# display map\n",
    "seattle_map"
   ]
  },
  {
   "cell_type": "code",
   "execution_count": 21,
   "metadata": {},
   "outputs": [
    {
     "data": {
      "text/plain": [
       "(348, 46)"
      ]
     },
     "execution_count": 21,
     "metadata": {},
     "output_type": "execute_result"
    }
   ],
   "source": [
    "df3.shape # Check"
   ]
  },
  {
   "cell_type": "code",
   "execution_count": 22,
   "metadata": {},
   "outputs": [
    {
     "name": "stderr",
     "output_type": "stream",
     "text": [
      "C:\\Users\\shane\\Downloads\\Python\\lib\\site-packages\\pandas\\core\\generic.py:6786: SettingWithCopyWarning: \n",
      "A value is trying to be set on a copy of a slice from a DataFrame\n",
      "\n",
      "See the caveats in the documentation: http://pandas.pydata.org/pandas-docs/stable/user_guide/indexing.html#returning-a-view-versus-a-copy\n",
      "  self._update_inplace(new_data)\n"
     ]
    },
    {
     "data": {
      "text/plain": [
       "Text(0.5, 1.0, 'Number of Severe Collisions per Collision Type')"
      ]
     },
     "execution_count": 22,
     "metadata": {},
     "output_type": "execute_result"
    },
    {
     "data": {
      "image/png": "[encoded data removed]",
      "text/plain": [
       "<Figure size 720x432 with 1 Axes>"
      ]
     },
     "metadata": {
      "needs_background": "light"
     },
     "output_type": "display_data"
    }
   ],
   "source": [
    "# We will creat a bar chart of collisions per type\n",
    "df3['COLLISIONTYPE'].replace(np.NaN,'Unknown', inplace=True)\n",
    "df3['COLLISIONTYPE'].value_counts().head().plot(kind='bar', figsize=(10, 6), rot = 'horizontal')\n",
    "plt.xlabel('Collision Type', fontsize=14) # add to x-label to the plot\n",
    "plt.ylabel('Number of Collisions', fontsize=14) # add y-label to the plot\n",
    "plt.title('Number of Severe Collisions per Collision Type',fontsize=16) # add title to the plot"
   ]
  },
  {
   "cell_type": "code",
   "execution_count": 23,
   "metadata": {},
   "outputs": [
    {
     "name": "stdout",
     "output_type": "stream",
     "text": [
      "The typical number of pedestrians and/or cyclists involved in a collision of severity 0 is 0.0\n",
      "The typical number of pedestrians and/or cyclists involved in a collision of severity 1 is 0.010273972602739725\n",
      "The typical number of pedestrians and/or cyclists involved in a collision of severity 2 is 0.19558165739065114\n",
      "The typical number of pedestrians and/or cyclists involved in a collision of severity 2b is 0.4569300518134715\n",
      "The typical number of pedestrians and/or cyclists involved in a collision of severity 3 is 0.5114942528735632\n"
     ]
    }
   ],
   "source": [
    "print(\"The typical number of pedestrians and/or cyclists involved in a collision of severity 0 is\", df0['PED/CYL'].mean()) # This should be 0.0 by definition\n",
    "print(\"The typical number of pedestrians and/or cyclists involved in a collision of severity 1 is\", df1['PED/CYL'].mean())\n",
    "print(\"The typical number of pedestrians and/or cyclists involved in a collision of severity 2 is\", df2['PED/CYL'].mean())\n",
    "print(\"The typical number of pedestrians and/or cyclists involved in a collision of severity 2b is\", df2b['PED/CYL'].mean())\n",
    "print(\"The typical number of pedestrians and/or cyclists involved in a collision of severity 3 is\", df3['PED/CYL'].mean())"
   ]
  },
  {
   "cell_type": "code",
   "execution_count": 24,
   "metadata": {
    "scrolled": true
   },
   "outputs": [
    {
     "name": "stdout",
     "output_type": "stream",
     "text": [
      "The typical number of serious injuries or fatalities involved in a collision of severity 2b is 1.0518134715025906\n",
      "The typical number of serious injuries or fatalities involved in a collision of severity 3 is 1.3620689655172413\n"
     ]
    }
   ],
   "source": [
    "print(\"The typical number of serious injuries or fatalities involved in a collision of severity 2b is\", df2b['INJ/FAT'].mean())\n",
    "print(\"The typical number of serious injuries or fatalities involved in a collision of severity 3 is\", df3['INJ/FAT'].mean()) # 0.0 for previous categories"
   ]
  },
  {
   "cell_type": "code",
   "execution_count": 25,
   "metadata": {},
   "outputs": [
    {
     "data": {
      "text/plain": [
       "1010    0\n",
       "1247    1\n",
       "1678    0\n",
       "2686    0\n",
       "3579    0\n",
       "Name: MORNING, dtype: int32"
      ]
     },
     "execution_count": 25,
     "metadata": {},
     "output_type": "execute_result"
    }
   ],
   "source": [
    "df3['MORNING'].head()"
   ]
  },
  {
   "cell_type": "code",
   "execution_count": 26,
   "metadata": {},
   "outputs": [
    {
     "data": {
      "text/plain": [
       "Text(0.5, 1.0, 'Number of Severe Collisions During Each Time Period')"
      ]
     },
     "execution_count": 26,
     "metadata": {},
     "output_type": "execute_result"
    },
    {
     "data": {
      "image/png": "[encoded data removed]",
      "text/plain": [
       "<Figure size 720x432 with 1 Axes>"
      ]
     },
     "metadata": {
      "needs_background": "light"
     },
     "output_type": "display_data"
    }
   ],
   "source": [
    "# Plot number of severe collisions per time period\n",
    "period=['MORNING','AFTERNOON','EVENING','NIGHT']\n",
    "df3_temp=df3 # Copying df3 dataframe to make changes to columns\n",
    "df3_temp['MORNING'].replace(0,np.NaN,inplace=True) # Get rid of 0 values, only concerned with 1\n",
    "df3_temp['AFTERNOON'].replace(0,np.NaN,inplace=True)\n",
    "df3_temp['EVENING'].replace(0,np.NaN,inplace=True)\n",
    "df3_temp['NIGHT'].replace(0,np.NaN,inplace=True)\n",
    "df3_temp[period].apply(pd.Series.value_counts).plot(kind='bar', figsize=(10, 6), rot = 'horizontal')\n",
    "plt.xlabel('Time Period', fontsize=14) # add to x-label to the plot\n",
    "plt.ylabel('Number of Collisions', fontsize=14) # add y-label to the plot\n",
    "plt.title('Number of Severe Collisions During Each Time Period',fontsize=16) # add title to the plot"
   ]
  },
  {
   "cell_type": "code",
   "execution_count": 27,
   "metadata": {},
   "outputs": [
    {
     "data": {
      "text/plain": [
       "NaN    294\n",
       "1.0     54\n",
       "Name: MORNING, dtype: int64"
      ]
     },
     "execution_count": 27,
     "metadata": {},
     "output_type": "execute_result"
    }
   ],
   "source": [
    "df3['MORNING'].value_counts(dropna=False) # Check df3 is unchanged"
   ]
  },
  {
   "cell_type": "code",
   "execution_count": 28,
   "metadata": {},
   "outputs": [
    {
     "data": {
      "text/plain": [
       "11.0    91749\n",
       "14.0    59092\n",
       "0.0     19133\n",
       "16.0    10913\n",
       "28.0     9557\n",
       "Name: SDOT_COLCODE, dtype: int64"
      ]
     },
     "execution_count": 28,
     "metadata": {},
     "output_type": "execute_result"
    }
   ],
   "source": [
    "# Tells us more information about most common types of collisions \n",
    "df['SDOT_COLCODE'].value_counts().head()"
   ]
  },
  {
   "cell_type": "code",
   "execution_count": 29,
   "metadata": {},
   "outputs": [
    {
     "data": {
      "text/plain": [
       "24.0    133\n",
       "11.0     76\n",
       "28.0     62\n",
       "26.0     24\n",
       "18.0     18\n",
       "Name: SDOT_COLCODE, dtype: int64"
      ]
     },
     "execution_count": 29,
     "metadata": {},
     "output_type": "execute_result"
    }
   ],
   "source": [
    "# Tells us more information about most common types of severe collisions\n",
    "df3['SDOT_COLCODE'].value_counts().head()"
   ]
  },
  {
   "cell_type": "code",
   "execution_count": 30,
   "metadata": {},
   "outputs": [
    {
     "data": {
      "text/plain": [
       "Y    30188\n",
       "Name: INATTENTIONIND, dtype: int64"
      ]
     },
     "execution_count": 30,
     "metadata": {},
     "output_type": "execute_result"
    }
   ],
   "source": [
    "df['INATTENTIONIND'].value_counts()"
   ]
  },
  {
   "cell_type": "code",
   "execution_count": 31,
   "metadata": {},
   "outputs": [
    {
     "data": {
      "text/plain": [
       "N    103344\n",
       "0     81676\n",
       "Y      5399\n",
       "1      4230\n",
       "Name: UNDERINFL, dtype: int64"
      ]
     },
     "execution_count": 31,
     "metadata": {},
     "output_type": "execute_result"
    }
   ],
   "source": [
    "df['UNDERINFL'].value_counts()"
   ]
  },
  {
   "cell_type": "code",
   "execution_count": 32,
   "metadata": {},
   "outputs": [
    {
     "data": {
      "text/html": [
       "<div>\n",
       "<style scoped>\n",
       "    .dataframe tbody tr th:only-of-type {\n",
       "        vertical-align: middle;\n",
       "    }\n",
       "\n",
       "    .dataframe tbody tr th {\n",
       "        vertical-align: top;\n",
       "    }\n",
       "\n",
       "    .dataframe thead th {\n",
       "        text-align: right;\n",
       "    }\n",
       "</style>\n",
       "<table border=\"1\" class=\"dataframe\">\n",
       "  <thead>\n",
       "    <tr style=\"text-align: right;\">\n",
       "      <th></th>\n",
       "      <th>Num of Collisions</th>\n",
       "    </tr>\n",
       "    <tr>\n",
       "      <th>Period</th>\n",
       "      <th></th>\n",
       "    </tr>\n",
       "  </thead>\n",
       "  <tbody>\n",
       "    <tr>\n",
       "      <td>MORNING</td>\n",
       "      <td>39753</td>\n",
       "    </tr>\n",
       "    <tr>\n",
       "      <td>AFTERNOON</td>\n",
       "      <td>69540</td>\n",
       "    </tr>\n",
       "    <tr>\n",
       "      <td>EVENING</td>\n",
       "      <td>40019</td>\n",
       "    </tr>\n",
       "    <tr>\n",
       "      <td>NIGHT</td>\n",
       "      <td>71500</td>\n",
       "    </tr>\n",
       "  </tbody>\n",
       "</table>\n",
       "</div>"
      ],
      "text/plain": [
       "           Num of Collisions\n",
       "Period                      \n",
       "MORNING                39753\n",
       "AFTERNOON              69540\n",
       "EVENING                40019\n",
       "NIGHT                  71500"
      ]
     },
     "execution_count": 32,
     "metadata": {},
     "output_type": "execute_result"
    }
   ],
   "source": [
    "# Dataframe of total collisions per time period\n",
    "data0=[['MORNING',(df_morn.shape)[0]],\n",
    "      ['AFTERNOON',(df_after.shape)[0]],\n",
    "      ['EVENING',(df_eve.shape)[0]],\n",
    "      ['NIGHT',(df_night.shape)[0]]]\n",
    "df_temp0 = pd.DataFrame(data0, columns = ['Period', 'Num of Collisions'])\n",
    "df_temp0.set_index('Period', inplace=True)\n",
    "df_temp0"
   ]
  },
  {
   "cell_type": "code",
   "execution_count": 33,
   "metadata": {},
   "outputs": [
    {
     "data": {
      "text/plain": [
       "Text(0.5, 1.0, 'Number of Collisions for Each Time Period')"
      ]
     },
     "execution_count": 33,
     "metadata": {},
     "output_type": "execute_result"
    },
    {
     "data": {
      "image/png": "[encoded data removed]",
      "text/plain": [
       "<Figure size 720x432 with 1 Axes>"
      ]
     },
     "metadata": {
      "needs_background": "light"
     },
     "output_type": "display_data"
    }
   ],
   "source": [
    "df_temp0.plot(kind='bar', figsize=(10, 6), rot = 'horizontal')\n",
    "plt.xlabel('Time Period', fontsize=14) # add to x-label to the plot\n",
    "plt.ylabel('Number of Collisions', fontsize=14) # add y-label to the plot\n",
    "plt.title('Number of Collisions for Each Time Period',fontsize=16) # add title to the plot"
   ]
  },
  {
   "cell_type": "code",
   "execution_count": 34,
   "metadata": {},
   "outputs": [
    {
     "data": {
      "text/html": [
       "<div>\n",
       "<style scoped>\n",
       "    .dataframe tbody tr th:only-of-type {\n",
       "        vertical-align: middle;\n",
       "    }\n",
       "\n",
       "    .dataframe tbody tr th {\n",
       "        vertical-align: top;\n",
       "    }\n",
       "\n",
       "    .dataframe thead th {\n",
       "        text-align: right;\n",
       "    }\n",
       "</style>\n",
       "<table border=\"1\" class=\"dataframe\">\n",
       "  <thead>\n",
       "    <tr style=\"text-align: right;\">\n",
       "      <th></th>\n",
       "      <th>Inattention</th>\n",
       "      <th>UnderInfluence</th>\n",
       "    </tr>\n",
       "    <tr>\n",
       "      <th>Period</th>\n",
       "      <th></th>\n",
       "      <th></th>\n",
       "    </tr>\n",
       "  </thead>\n",
       "  <tbody>\n",
       "    <tr>\n",
       "      <td>MORNING</td>\n",
       "      <td>7527</td>\n",
       "      <td>310</td>\n",
       "    </tr>\n",
       "    <tr>\n",
       "      <td>AFTERNOON</td>\n",
       "      <td>12098</td>\n",
       "      <td>717</td>\n",
       "    </tr>\n",
       "    <tr>\n",
       "      <td>EVENING</td>\n",
       "      <td>5366</td>\n",
       "      <td>2338</td>\n",
       "    </tr>\n",
       "    <tr>\n",
       "      <td>NIGHT</td>\n",
       "      <td>5197</td>\n",
       "      <td>2034</td>\n",
       "    </tr>\n",
       "  </tbody>\n",
       "</table>\n",
       "</div>"
      ],
      "text/plain": [
       "           Inattention  UnderInfluence\n",
       "Period                                \n",
       "MORNING           7527             310\n",
       "AFTERNOON        12098             717\n",
       "EVENING           5366            2338\n",
       "NIGHT             5197            2034"
      ]
     },
     "execution_count": 34,
     "metadata": {},
     "output_type": "execute_result"
    }
   ],
   "source": [
    "# Dataframe of drivers either inattentive or under the influence during a collision per time period\n",
    "data2=[['MORNING',(df_morn['INATTENTIONIND'].value_counts()[0]),(df_morn['UNDERINFL'].value_counts()[2])],\n",
    "      ['AFTERNOON',(df_after['INATTENTIONIND'].value_counts()[0]),(df_after['UNDERINFL'].value_counts()[2])],\n",
    "      ['EVENING',(df_eve['INATTENTIONIND'].value_counts()[0]),(df_eve['UNDERINFL'].value_counts()[2])],\n",
    "      ['NIGHT',(df_night['INATTENTIONIND'].value_counts()[0]),(df_night['UNDERINFL'].value_counts()[3])]]\n",
    "df_temp2 = pd.DataFrame(data2, columns = ['Period', 'Inattention', 'UnderInfluence'])\n",
    "df_temp2.set_index('Period', inplace=True)\n",
    "df_temp2"
   ]
  },
  {
   "cell_type": "code",
   "execution_count": 35,
   "metadata": {},
   "outputs": [
    {
     "data": {
      "text/plain": [
       "Text(0.5, 1.0, 'Number of Collisions With Inattention/UnderInfluence per Time Period')"
      ]
     },
     "execution_count": 35,
     "metadata": {},
     "output_type": "execute_result"
    },
    {
     "data": {
      "image/png": "[encoded data removed]",
      "text/plain": [
       "<Figure size 720x432 with 1 Axes>"
      ]
     },
     "metadata": {
      "needs_background": "light"
     },
     "output_type": "display_data"
    }
   ],
   "source": [
    "df_temp2.plot(kind='bar', figsize=(10, 6), rot = 'horizontal')\n",
    "plt.xlabel('Time Period', fontsize=14) # add to x-label to the plot\n",
    "plt.ylabel('Number of Collisions', fontsize=14) # add y-label to the plot\n",
    "plt.title('Number of Collisions With Inattention/UnderInfluence per Time Period',fontsize=16) # add title to the plot"
   ]
  },
  {
   "cell_type": "code",
   "execution_count": 36,
   "metadata": {},
   "outputs": [
    {
     "data": {
      "text/html": [
       "<div>\n",
       "<style scoped>\n",
       "    .dataframe tbody tr th:only-of-type {\n",
       "        vertical-align: middle;\n",
       "    }\n",
       "\n",
       "    .dataframe tbody tr th {\n",
       "        vertical-align: top;\n",
       "    }\n",
       "\n",
       "    .dataframe thead th {\n",
       "        text-align: right;\n",
       "    }\n",
       "</style>\n",
       "<table border=\"1\" class=\"dataframe\">\n",
       "  <thead>\n",
       "    <tr style=\"text-align: right;\">\n",
       "      <th></th>\n",
       "      <th>Inattention (%)</th>\n",
       "      <th>UnderInfluence (%)</th>\n",
       "    </tr>\n",
       "    <tr>\n",
       "      <th>Period</th>\n",
       "      <th></th>\n",
       "      <th></th>\n",
       "    </tr>\n",
       "  </thead>\n",
       "  <tbody>\n",
       "    <tr>\n",
       "      <td>MORNING</td>\n",
       "      <td>18.934420</td>\n",
       "      <td>0.779815</td>\n",
       "    </tr>\n",
       "    <tr>\n",
       "      <td>AFTERNOON</td>\n",
       "      <td>17.397181</td>\n",
       "      <td>1.031061</td>\n",
       "    </tr>\n",
       "    <tr>\n",
       "      <td>EVENING</td>\n",
       "      <td>13.408631</td>\n",
       "      <td>5.842225</td>\n",
       "    </tr>\n",
       "    <tr>\n",
       "      <td>NIGHT</td>\n",
       "      <td>7.268531</td>\n",
       "      <td>2.844755</td>\n",
       "    </tr>\n",
       "  </tbody>\n",
       "</table>\n",
       "</div>"
      ],
      "text/plain": [
       "           Inattention (%)  UnderInfluence (%)\n",
       "Period                                        \n",
       "MORNING          18.934420            0.779815\n",
       "AFTERNOON        17.397181            1.031061\n",
       "EVENING          13.408631            5.842225\n",
       "NIGHT             7.268531            2.844755"
      ]
     },
     "execution_count": 36,
     "metadata": {},
     "output_type": "execute_result"
    }
   ],
   "source": [
    "# Dataframe of percentage of drivers either inattentive or under the influence during a collision per time period\n",
    "data1=[['MORNING',(df_morn['INATTENTIONIND'].value_counts()[0])/(df_morn.shape[0])*100,(df_morn['UNDERINFL'].value_counts()[2])/(df_morn.shape[0])*100],\n",
    "      ['AFTERNOON',(df_after['INATTENTIONIND'].value_counts()[0])/(df_after.shape[0])*100,(df_after['UNDERINFL'].value_counts()[2])/(df_after.shape[0])*100],\n",
    "      ['EVENING',(df_eve['INATTENTIONIND'].value_counts()[0])/(df_eve.shape[0])*100,(df_eve['UNDERINFL'].value_counts()[2])/(df_eve.shape[0])*100],\n",
    "      ['NIGHT',(df_night['INATTENTIONIND'].value_counts()[0])/(df_night.shape[0])*100,(df_night['UNDERINFL'].value_counts()[3])/(df_night.shape[0])*100]]\n",
    "df_temp1 = pd.DataFrame(data1, columns = ['Period', 'Inattention (%)', 'UnderInfluence (%)'])\n",
    "df_temp1.set_index('Period', inplace=True)\n",
    "df_temp1"
   ]
  },
  {
   "cell_type": "code",
   "execution_count": 37,
   "metadata": {},
   "outputs": [
    {
     "data": {
      "text/plain": [
       "Text(0.5, 1.0, 'Percentage of Inattention and UnderInfluence per Time Period')"
      ]
     },
     "execution_count": 37,
     "metadata": {},
     "output_type": "execute_result"
    },
    {
     "data": {
      "image/png": "[encoded data removed]",
      "text/plain": [
       "<Figure size 720x432 with 1 Axes>"
      ]
     },
     "metadata": {
      "needs_background": "light"
     },
     "output_type": "display_data"
    }
   ],
   "source": [
    "df_temp1.plot(kind='bar', figsize=(10, 6), rot = 'horizontal')\n",
    "plt.xlabel('Time Period', fontsize=14) # add to x-label to the plot\n",
    "plt.ylabel('Percentage', fontsize=14) # add y-label to the plot\n",
    "plt.title('Percentage of Inattention and UnderInfluence per Time Period',fontsize=16) # add title to the plot"
   ]
  },
  {
   "cell_type": "code",
   "execution_count": 38,
   "metadata": {},
   "outputs": [
    {
     "data": {
      "text/html": [
       "<div>\n",
       "<style scoped>\n",
       "    .dataframe tbody tr th:only-of-type {\n",
       "        vertical-align: middle;\n",
       "    }\n",
       "\n",
       "    .dataframe tbody tr th {\n",
       "        vertical-align: top;\n",
       "    }\n",
       "\n",
       "    .dataframe thead th {\n",
       "        text-align: right;\n",
       "    }\n",
       "</style>\n",
       "<table border=\"1\" class=\"dataframe\">\n",
       "  <thead>\n",
       "    <tr style=\"text-align: right;\">\n",
       "      <th></th>\n",
       "      <th>Inattention (%)</th>\n",
       "      <th>UnderInfluence (%)</th>\n",
       "    </tr>\n",
       "    <tr>\n",
       "      <th>Severity</th>\n",
       "      <th></th>\n",
       "      <th></th>\n",
       "    </tr>\n",
       "  </thead>\n",
       "  <tbody>\n",
       "    <tr>\n",
       "      <td>0</td>\n",
       "      <td>0.000000</td>\n",
       "      <td>0.000000</td>\n",
       "    </tr>\n",
       "    <tr>\n",
       "      <td>1</td>\n",
       "      <td>14.143107</td>\n",
       "      <td>2.324395</td>\n",
       "    </tr>\n",
       "    <tr>\n",
       "      <td>2</td>\n",
       "      <td>17.757025</td>\n",
       "      <td>3.310342</td>\n",
       "    </tr>\n",
       "    <tr>\n",
       "      <td>2b</td>\n",
       "      <td>11.690415</td>\n",
       "      <td>7.383420</td>\n",
       "    </tr>\n",
       "    <tr>\n",
       "      <td>3</td>\n",
       "      <td>4.597701</td>\n",
       "      <td>12.068966</td>\n",
       "    </tr>\n",
       "  </tbody>\n",
       "</table>\n",
       "</div>"
      ],
      "text/plain": [
       "          Inattention (%)  UnderInfluence (%)\n",
       "Severity                                     \n",
       "0                0.000000            0.000000\n",
       "1               14.143107            2.324395\n",
       "2               17.757025            3.310342\n",
       "2b              11.690415            7.383420\n",
       "3                4.597701           12.068966"
      ]
     },
     "execution_count": 38,
     "metadata": {},
     "output_type": "execute_result"
    }
   ],
   "source": [
    "# Dataframe of percentage of drivers either inattentive or under the influence during a collision per severity class\n",
    "data=[['0',0,0],\n",
    "      ['1',(df1['INATTENTIONIND'].value_counts()[0])/(df1.shape[0])*100,(df1['UNDERINFL'].value_counts()[2])/(df1.shape[0])*100],\n",
    "      ['2',(df2['INATTENTIONIND'].value_counts()[0])/(df2.shape[0])*100,(df2['UNDERINFL'].value_counts()[2])/(df2.shape[0])*100],\n",
    "      ['2b',(df2b['INATTENTIONIND'].value_counts()[0])/(df2b.shape[0])*100,(df2b['UNDERINFL'].value_counts()[2])/(df2b.shape[0])*100],\n",
    "      ['3',(df3['INATTENTIONIND'].value_counts()[0])/(df3.shape[0])*100,(df3['UNDERINFL'].value_counts()[3])/(df3.shape[0])*100]]\n",
    "df_temp = pd.DataFrame(data, columns = ['Severity', 'Inattention (%)', 'UnderInfluence (%)'])\n",
    "df_temp.set_index('Severity', inplace=True)\n",
    "df_temp"
   ]
  },
  {
   "cell_type": "code",
   "execution_count": 39,
   "metadata": {},
   "outputs": [
    {
     "data": {
      "text/plain": [
       "Text(0.5, 1.0, 'Percentage of Inattention and UnderInfluence per Severity Class')"
      ]
     },
     "execution_count": 39,
     "metadata": {},
     "output_type": "execute_result"
    },
    {
     "data": {
      "image/png": "[encoded data removed]",
      "text/plain": [
       "<Figure size 720x432 with 1 Axes>"
      ]
     },
     "metadata": {
      "needs_background": "light"
     },
     "output_type": "display_data"
    }
   ],
   "source": [
    "df_temp.plot(kind='bar', figsize=(10, 6), rot = 'horizontal')\n",
    "plt.xlabel('Severity Class', fontsize=14) # add to x-label to the plot\n",
    "plt.ylabel('Percentage', fontsize=14) # add y-label to the plot\n",
    "plt.title('Percentage of Inattention and UnderInfluence per Severity Class',fontsize=16) # add title to the plot"
   ]
  },
  {
   "cell_type": "code",
   "execution_count": 40,
   "metadata": {},
   "outputs": [
    {
     "data": {
      "text/plain": [
       "Clear                       114265\n",
       "Raining                      34001\n",
       "Overcast                     28489\n",
       "Unknown                      15131\n",
       "Snowing                        919\n",
       "Other                          851\n",
       "Fog/Smog/Smoke                 576\n",
       "Sleet/Hail/Freezing Rain       116\n",
       "Blowing Sand/Dirt               56\n",
       "Severe Crosswind                26\n",
       "Partly Cloudy                    9\n",
       "Blowing Snow                     1\n",
       "Name: WEATHER, dtype: int64"
      ]
     },
     "execution_count": 40,
     "metadata": {},
     "output_type": "execute_result"
    }
   ],
   "source": [
    "df['WEATHER'].value_counts()"
   ]
  },
  {
   "cell_type": "code",
   "execution_count": 41,
   "metadata": {},
   "outputs": [
    {
     "data": {
      "image/png": "[encoded data removed]",
      "text/plain": [
       "<Figure size 1440x720 with 3 Axes>"
      ]
     },
     "metadata": {},
     "output_type": "display_data"
    }
   ],
   "source": [
    "# Plot weather, road and lighting conditions corresponding to most collisions\n",
    "fig = plt.figure() \n",
    "ax0 = fig.add_subplot(2, 2, 1) \n",
    "ax1 = fig.add_subplot(2, 2, 2)\n",
    "ax2 = fig.add_subplot(2, 2, 3)\n",
    "colors_list = ['gold', 'yellowgreen', 'lightcoral', 'lightskyblue', 'lightgreen', 'pink']\n",
    "explode_list = [0, 0, 0, 0, 0.1] # ratio for each condition with which to offset each wedge.\n",
    "\n",
    "df['WEATHER'].value_counts().head().plot(kind='pie', \n",
    "                            ax=ax0,\n",
    "                            figsize=(20, 10),\n",
    "                            autopct='%1.1f%%', \n",
    "                            startangle=90,    \n",
    "                            shadow=False,       \n",
    "                            labels=None,         # turn off labels on pie chart\n",
    "                            pctdistance=1.15,    # the ratio between the center of each pie slice and the start of the text generated by autopct \n",
    "                            colors=colors_list,  # add custom colors\n",
    "                            explode=explode_list # 'explode' lowest condition\n",
    "                            )\n",
    "\n",
    "# scale the title up by 12% to match pctdistance\n",
    "ax0.set_title('Most Common Weather Types For Collisions', y=1.12, fontsize=16)\n",
    "ax0.set_ylabel('Weather',fontsize=14)\n",
    "ax0.axis('equal')  # Sets the pie chart to look like a circle.\n",
    "# add legend\n",
    "ax0.legend(labels=df['WEATHER'].value_counts().index, loc='upper left') \n",
    "\n",
    "df['ROADCOND'].value_counts().head().plot(kind='pie', \n",
    "                            ax=ax1,\n",
    "                            figsize=(20, 10),\n",
    "                            autopct='%1.1f%%', \n",
    "                            startangle=90,    \n",
    "                            shadow=False,       \n",
    "                            labels=None,         # turn off labels on pie chart\n",
    "                            pctdistance=1.15,    # the ratio between the center of each pie slice and the start of the text generated by autopct \n",
    "                            colors=colors_list,  # add custom colors\n",
    "                            explode=explode_list # 'explode' lowest condition\n",
    "                            )\n",
    "\n",
    "ax1.set_title('Most Common Road Conditions For Collisions', y=1.12,fontsize=16)\n",
    "ax1.set_ylabel('Road Conditions',fontsize=14)\n",
    "ax1.axis('equal')  # Sets the pie chart to look like a circle.\n",
    "ax1.legend(labels=df['ROADCOND'].value_counts().index, loc='upper left') \n",
    "\n",
    "df['LIGHTCOND'].value_counts().head().plot(kind='pie', \n",
    "                            ax=ax2,\n",
    "                            figsize=(20, 10),\n",
    "                            autopct='%1.1f%%', \n",
    "                            startangle=90,    \n",
    "                            shadow=False,       \n",
    "                            labels=None,         # turn off labels on pie chart\n",
    "                            pctdistance=1.15,    # the ratio between the center of each pie slice and the start of the text generated by autopct \n",
    "                            colors=colors_list,  # add custom colors\n",
    "                            explode=explode_list # 'explode' lowest condition\n",
    "                            )\n",
    "\n",
    "ax2.set_title('Most Common Light Conditions For Collisions', y=1.12, fontsize=16)\n",
    "ax2.set_ylabel('Light Conditions',fontsize=14)\n",
    "ax2.axis('equal')  # Sets the pie chart to look like a circle.\n",
    "ax2.legend(labels=df['LIGHTCOND'].value_counts().index, loc='upper left') \n",
    "\n",
    "plt.show()"
   ]
  },
  {
   "cell_type": "code",
   "execution_count": 42,
   "metadata": {},
   "outputs": [
    {
     "data": {
      "text/plain": [
       "Clear               227\n",
       "Overcast             53\n",
       "Raining              50\n",
       "Fog/Smog/Smoke        3\n",
       "Other                 3\n",
       "Severe Crosswind      1\n",
       "Unknown               1\n",
       "Name: WEATHER, dtype: int64"
      ]
     },
     "execution_count": 42,
     "metadata": {},
     "output_type": "execute_result"
    }
   ],
   "source": [
    "df3['WEATHER'].value_counts()"
   ]
  },
  {
   "cell_type": "code",
   "execution_count": 43,
   "metadata": {},
   "outputs": [
    {
     "data": {
      "text/plain": [
       "Dry        267\n",
       "Wet         69\n",
       "Ice          1\n",
       "Unknown      1\n",
       "Name: ROADCOND, dtype: int64"
      ]
     },
     "execution_count": 43,
     "metadata": {},
     "output_type": "execute_result"
    }
   ],
   "source": [
    "df3['ROADCOND'].value_counts()"
   ]
  },
  {
   "cell_type": "code",
   "execution_count": 44,
   "metadata": {},
   "outputs": [
    {
     "data": {
      "text/plain": [
       "Daylight                    168\n",
       "Dark - Street Lights On     145\n",
       "Dusk                         14\n",
       "Dawn                          5\n",
       "Dark - Street Lights Off      4\n",
       "Unknown                       1\n",
       "Dark - No Street Lights       1\n",
       "Name: LIGHTCOND, dtype: int64"
      ]
     },
     "execution_count": 44,
     "metadata": {},
     "output_type": "execute_result"
    }
   ],
   "source": [
    "df3['LIGHTCOND'].value_counts()"
   ]
  },
  {
   "cell_type": "code",
   "execution_count": 45,
   "metadata": {},
   "outputs": [],
   "source": [
    "# Most collisions occur during daytime in clear, dry conditions. This does not tell us much about the\n",
    "# effect of such conditions on collisions. To determine this we could gather statistics on the daily\n",
    "# weather in Seattle and normalize the data to get a better picture of whether collisions occurred\n",
    "# disproportionately to the weather"
   ]
  },
  {
   "cell_type": "code",
   "execution_count": 46,
   "metadata": {},
   "outputs": [
    {
     "data": {
      "text/html": [
       "<div>\n",
       "<style scoped>\n",
       "    .dataframe tbody tr th:only-of-type {\n",
       "        vertical-align: middle;\n",
       "    }\n",
       "\n",
       "    .dataframe tbody tr th {\n",
       "        vertical-align: top;\n",
       "    }\n",
       "\n",
       "    .dataframe thead th {\n",
       "        text-align: right;\n",
       "    }\n",
       "</style>\n",
       "<table border=\"1\" class=\"dataframe\">\n",
       "  <thead>\n",
       "    <tr style=\"text-align: right;\">\n",
       "      <th></th>\n",
       "      <th>X</th>\n",
       "      <th>Y</th>\n",
       "      <th>OBJECTID</th>\n",
       "      <th>INCKEY</th>\n",
       "      <th>COLDETKEY</th>\n",
       "      <th>REPORTNO</th>\n",
       "      <th>STATUS</th>\n",
       "      <th>ADDRTYPE</th>\n",
       "      <th>INTKEY</th>\n",
       "      <th>LOCATION</th>\n",
       "      <th>...</th>\n",
       "      <th>ST_COLDESC</th>\n",
       "      <th>SEGLANEKEY</th>\n",
       "      <th>CROSSWALKKEY</th>\n",
       "      <th>HITPARKEDCAR</th>\n",
       "      <th>PED/CYL</th>\n",
       "      <th>INJ/FAT</th>\n",
       "      <th>MORNING</th>\n",
       "      <th>AFTERNOON</th>\n",
       "      <th>EVENING</th>\n",
       "      <th>NIGHT</th>\n",
       "    </tr>\n",
       "  </thead>\n",
       "  <tbody>\n",
       "    <tr>\n",
       "      <td>130187</td>\n",
       "      <td>-122.328913</td>\n",
       "      <td>47.613466</td>\n",
       "      <td>130188</td>\n",
       "      <td>145917</td>\n",
       "      <td>145937</td>\n",
       "      <td>3573476</td>\n",
       "      <td>Matched</td>\n",
       "      <td>Intersection</td>\n",
       "      <td>29878.0</td>\n",
       "      <td>BOREN AVE AND PIKE ST</td>\n",
       "      <td>...</td>\n",
       "      <td>Entering at angle</td>\n",
       "      <td>0</td>\n",
       "      <td>0</td>\n",
       "      <td>N</td>\n",
       "      <td>0</td>\n",
       "      <td>0</td>\n",
       "      <td>0</td>\n",
       "      <td>1</td>\n",
       "      <td>0</td>\n",
       "      <td>0</td>\n",
       "    </tr>\n",
       "  </tbody>\n",
       "</table>\n",
       "<p>1 rows × 46 columns</p>\n",
       "</div>"
      ],
      "text/plain": [
       "                 X          Y  OBJECTID  INCKEY  COLDETKEY REPORTNO   STATUS  \\\n",
       "130187 -122.328913  47.613466    130188  145917     145937  3573476  Matched   \n",
       "\n",
       "            ADDRTYPE   INTKEY               LOCATION  ...         ST_COLDESC  \\\n",
       "130187  Intersection  29878.0  BOREN AVE AND PIKE ST  ...  Entering at angle   \n",
       "\n",
       "       SEGLANEKEY CROSSWALKKEY HITPARKEDCAR PED/CYL  INJ/FAT  MORNING  \\\n",
       "130187          0            0            N       0        0        0   \n",
       "\n",
       "        AFTERNOON  EVENING  NIGHT  \n",
       "130187          1        0      0  \n",
       "\n",
       "[1 rows x 46 columns]"
      ]
     },
     "execution_count": 46,
     "metadata": {},
     "output_type": "execute_result"
    }
   ],
   "source": [
    "df[df['INJURIES']==12] # Let's take a look at the collision that caused the most injuries in the dataset"
   ]
  },
  {
   "cell_type": "code",
   "execution_count": 47,
   "metadata": {},
   "outputs": [
    {
     "data": {
      "text/html": [
       "<div>\n",
       "<style scoped>\n",
       "    .dataframe tbody tr th:only-of-type {\n",
       "        vertical-align: middle;\n",
       "    }\n",
       "\n",
       "    .dataframe tbody tr th {\n",
       "        vertical-align: top;\n",
       "    }\n",
       "\n",
       "    .dataframe thead th {\n",
       "        text-align: right;\n",
       "    }\n",
       "</style>\n",
       "<table border=\"1\" class=\"dataframe\">\n",
       "  <thead>\n",
       "    <tr style=\"text-align: right;\">\n",
       "      <th></th>\n",
       "      <th>X</th>\n",
       "      <th>Y</th>\n",
       "      <th>OBJECTID</th>\n",
       "      <th>INCKEY</th>\n",
       "      <th>COLDETKEY</th>\n",
       "      <th>REPORTNO</th>\n",
       "      <th>STATUS</th>\n",
       "      <th>ADDRTYPE</th>\n",
       "      <th>INTKEY</th>\n",
       "      <th>LOCATION</th>\n",
       "      <th>...</th>\n",
       "      <th>ST_COLDESC</th>\n",
       "      <th>SEGLANEKEY</th>\n",
       "      <th>CROSSWALKKEY</th>\n",
       "      <th>HITPARKEDCAR</th>\n",
       "      <th>PED/CYL</th>\n",
       "      <th>INJ/FAT</th>\n",
       "      <th>MORNING</th>\n",
       "      <th>AFTERNOON</th>\n",
       "      <th>EVENING</th>\n",
       "      <th>NIGHT</th>\n",
       "    </tr>\n",
       "  </thead>\n",
       "  <tbody>\n",
       "    <tr>\n",
       "      <td>163522</td>\n",
       "      <td>-122.347294</td>\n",
       "      <td>47.647172</td>\n",
       "      <td>163523</td>\n",
       "      <td>203057</td>\n",
       "      <td>203197</td>\n",
       "      <td>3703661</td>\n",
       "      <td>Matched</td>\n",
       "      <td>Block</td>\n",
       "      <td>NaN</td>\n",
       "      <td>AURORA BR BETWEEN RAYE ST AND BRIDGE WAY N</td>\n",
       "      <td>...</td>\n",
       "      <td>From opposite direction - all others</td>\n",
       "      <td>0</td>\n",
       "      <td>0</td>\n",
       "      <td>N</td>\n",
       "      <td>0</td>\n",
       "      <td>46</td>\n",
       "      <td>1</td>\n",
       "      <td>0</td>\n",
       "      <td>0</td>\n",
       "      <td>0</td>\n",
       "    </tr>\n",
       "  </tbody>\n",
       "</table>\n",
       "<p>1 rows × 46 columns</p>\n",
       "</div>"
      ],
      "text/plain": [
       "                 X          Y  OBJECTID  INCKEY  COLDETKEY REPORTNO   STATUS  \\\n",
       "163522 -122.347294  47.647172    163523  203057     203197  3703661  Matched   \n",
       "\n",
       "       ADDRTYPE  INTKEY                                    LOCATION  ...  \\\n",
       "163522    Block     NaN  AURORA BR BETWEEN RAYE ST AND BRIDGE WAY N  ...   \n",
       "\n",
       "                                  ST_COLDESC SEGLANEKEY CROSSWALKKEY  \\\n",
       "163522  From opposite direction - all others          0            0   \n",
       "\n",
       "       HITPARKEDCAR PED/CYL  INJ/FAT  MORNING  AFTERNOON  EVENING  NIGHT  \n",
       "163522            N       0       46        1          0        0      0  \n",
       "\n",
       "[1 rows x 46 columns]"
      ]
     },
     "execution_count": 47,
     "metadata": {},
     "output_type": "execute_result"
    }
   ],
   "source": [
    "df[df['FATALITIES']==5]  # Let's take a look at the collision that caused the most fatalities in the dataset"
   ]
  },
  {
   "cell_type": "code",
   "execution_count": 48,
   "metadata": {},
   "outputs": [
    {
     "data": {
      "image/png": "[encoded data removed]",
      "text/plain": [
       "<Figure size 432x288 with 1 Axes>"
      ]
     },
     "metadata": {
      "needs_background": "light"
     },
     "output_type": "display_data"
    }
   ],
   "source": [
    "# Plot of total collisions through the years 2004-2019\n",
    "df_time=df['INCDTTM'].dt.year.value_counts(sort=False)\n",
    "df_time.drop([2003, 2020], inplace=True)  # drop outliers\n",
    "df_time.plot(kind='line')\n",
    "plt.xlabel('Years', fontsize=14) # add to x-label to the plot\n",
    "plt.ylabel('Number of Collisions', fontsize=14) # add y-label to the plot\n",
    "plt.title('Number of Collisions Seattle (2004-2019)',fontsize=16) # add title to the plot\n",
    "plt.text(2008, 11600, '2010 Lowpoint') # annotate graph at local high and low points\n",
    "plt.text(2014, 14500, '2015 Highpoint')\n",
    "plt.show() "
   ]
  },
  {
   "cell_type": "markdown",
   "metadata": {},
   "source": [
    "### Build Model"
   ]
  },
  {
   "cell_type": "code",
   "execution_count": 49,
   "metadata": {},
   "outputs": [],
   "source": [
    "# Before building machine learning model we must balance labels, ensure dataframe is purely numerical (no NaNs/blanks...), \n",
    "# get rid of unnecessary columns, turn dataframe to numpy array and normalize data"
   ]
  },
  {
   "cell_type": "code",
   "execution_count": 50,
   "metadata": {},
   "outputs": [],
   "source": [
    "# Choose following attributes for our model (we will include our target variable for reasons discussed later):\n",
    "# 'PERSONCOUNT','PEDCOUNT', 'PEDCYLCOUNT', 'VEHCOUNT', 'INJURIES', 'SERIOUSINJURIES',\n",
    "# 'FATALITIES','SDOT_COLCODE','INATTENTIONIND', 'UNDERINFL', 'SPEEDING', 'ST_COLCODE',\n",
    "# 'MORNING', 'AFTERNOON', 'EVENING', 'NIGHT'\n",
    "df_features = df[['PERSONCOUNT','PEDCOUNT', 'PEDCYLCOUNT', 'VEHCOUNT', 'INJURIES', 'SERIOUSINJURIES',\n",
    "              'FATALITIES','SDOT_COLCODE','INATTENTIONIND', 'UNDERINFL', 'SPEEDING', 'ST_COLCODE',\n",
    "              'MORNING', 'AFTERNOON', 'EVENING', 'NIGHT', 'SEVERITYCODE']]"
   ]
  },
  {
   "cell_type": "code",
   "execution_count": 51,
   "metadata": {},
   "outputs": [
    {
     "data": {
      "text/plain": [
       "(220812, 17)"
      ]
     },
     "execution_count": 51,
     "metadata": {},
     "output_type": "execute_result"
    }
   ],
   "source": [
    "df_features.shape"
   ]
  },
  {
   "cell_type": "code",
   "execution_count": 52,
   "metadata": {},
   "outputs": [
    {
     "data": {
      "text/plain": [
       "PERSONCOUNT          int64\n",
       "PEDCOUNT             int64\n",
       "PEDCYLCOUNT          int64\n",
       "VEHCOUNT             int64\n",
       "INJURIES             int64\n",
       "SERIOUSINJURIES      int64\n",
       "FATALITIES           int64\n",
       "SDOT_COLCODE       float64\n",
       "INATTENTIONIND      object\n",
       "UNDERINFL           object\n",
       "SPEEDING            object\n",
       "ST_COLCODE          object\n",
       "MORNING              int32\n",
       "AFTERNOON            int32\n",
       "EVENING              int32\n",
       "NIGHT                int32\n",
       "SEVERITYCODE        object\n",
       "dtype: object"
      ]
     },
     "execution_count": 52,
     "metadata": {},
     "output_type": "execute_result"
    }
   ],
   "source": [
    "# We must change all types to int\n",
    "df_features.dtypes"
   ]
  },
  {
   "cell_type": "code",
   "execution_count": 53,
   "metadata": {
    "scrolled": true
   },
   "outputs": [
    {
     "data": {
      "text/plain": [
       "11.0    91749\n",
       "14.0    59092\n",
       "0.0     19133\n",
       "16.0    10913\n",
       "28.0     9557\n",
       "24.0     7683\n",
       "13.0     6869\n",
       "26.0     5059\n",
       "18.0     3419\n",
       "15.0     1813\n",
       "12.0     1775\n",
       "51.0     1468\n",
       "29.0      559\n",
       "21.0      205\n",
       "56.0      199\n",
       "27.0      173\n",
       "54.0      153\n",
       "23.0      129\n",
       "48.0      119\n",
       "31.0      111\n",
       "25.0      110\n",
       "34.0      100\n",
       "64.0       98\n",
       "69.0       86\n",
       "33.0       57\n",
       "55.0       56\n",
       "66.0       31\n",
       "22.0       19\n",
       "44.0       16\n",
       "32.0       13\n",
       "53.0        9\n",
       "61.0        7\n",
       "58.0        6\n",
       "68.0        6\n",
       "35.0        6\n",
       "36.0        4\n",
       "46.0        4\n",
       "52.0        2\n",
       "47.0        2\n",
       "87.0        1\n",
       "NaN         1\n",
       "Name: SDOT_COLCODE, dtype: int64"
      ]
     },
     "execution_count": 53,
     "metadata": {},
     "output_type": "execute_result"
    }
   ],
   "source": [
    "# We see there is 1 Na value in this column\n",
    "df_features['SDOT_COLCODE'].value_counts(dropna=False)"
   ]
  },
  {
   "cell_type": "code",
   "execution_count": 54,
   "metadata": {},
   "outputs": [],
   "source": [
    "# Get rid of Na value(s) and turn type into int\n",
    "df_features = df_features[pd.to_numeric(df_features['SDOT_COLCODE'], errors='coerce').notnull()]\n",
    "df_features['SDOT_COLCODE'] = df_features['SDOT_COLCODE'].astype('int')"
   ]
  },
  {
   "cell_type": "code",
   "execution_count": 55,
   "metadata": {},
   "outputs": [
    {
     "data": {
      "text/plain": [
       "NaN    190623\n",
       "Y       30188\n",
       "Name: INATTENTIONIND, dtype: int64"
      ]
     },
     "execution_count": 55,
     "metadata": {},
     "output_type": "execute_result"
    }
   ],
   "source": [
    "df_features['INATTENTIONIND'].value_counts(dropna=False)"
   ]
  },
  {
   "cell_type": "code",
   "execution_count": 56,
   "metadata": {},
   "outputs": [],
   "source": [
    "df_features['INATTENTIONIND'].replace([np.NaN,'Y'],[0,1],inplace=True) # can do this because NaNs most likely represent attention"
   ]
  },
  {
   "cell_type": "code",
   "execution_count": 57,
   "metadata": {},
   "outputs": [],
   "source": [
    "df_features = df_features[pd.to_numeric(df_features['INATTENTIONIND'], errors='coerce').notnull()]\n",
    "df_features['INATTENTIONIND'] = df_features['INATTENTIONIND'].astype('int')"
   ]
  },
  {
   "cell_type": "code",
   "execution_count": 58,
   "metadata": {},
   "outputs": [
    {
     "data": {
      "text/plain": [
       "N      103344\n",
       "0       81676\n",
       "NaN     26162\n",
       "Y        5399\n",
       "1        4230\n",
       "Name: UNDERINFL, dtype: int64"
      ]
     },
     "execution_count": 58,
     "metadata": {},
     "output_type": "execute_result"
    }
   ],
   "source": [
    "df_features['UNDERINFL'].value_counts(dropna=False) #too many NaNs, will take away too much row information \n",
    "# we will get rid of this column"
   ]
  },
  {
   "cell_type": "code",
   "execution_count": 59,
   "metadata": {},
   "outputs": [
    {
     "data": {
      "text/plain": [
       "NaN    210915\n",
       "Y        9896\n",
       "Name: SPEEDING, dtype: int64"
      ]
     },
     "execution_count": 59,
     "metadata": {},
     "output_type": "execute_result"
    }
   ],
   "source": [
    "df_features['SPEEDING'].value_counts(dropna=False)"
   ]
  },
  {
   "cell_type": "code",
   "execution_count": 60,
   "metadata": {},
   "outputs": [],
   "source": [
    "df_features['SPEEDING'].replace([np.NaN,'Y'],[0,1],inplace=True) # can do this because NaNs most likely represent no speeding"
   ]
  },
  {
   "cell_type": "code",
   "execution_count": 61,
   "metadata": {},
   "outputs": [],
   "source": [
    "df_features = df_features[pd.to_numeric(df_features['SPEEDING'], errors='coerce').notnull()]\n",
    "df_features['SPEEDING'] = df_features['SPEEDING'].astype('int')"
   ]
  },
  {
   "cell_type": "code",
   "execution_count": 62,
   "metadata": {},
   "outputs": [
    {
     "data": {
      "text/plain": [
       "32    44827\n",
       "10    35434\n",
       "14    26139\n",
       "      16770\n",
       "50    14100\n",
       "      ...  \n",
       "43        3\n",
       "87        2\n",
       "85        1\n",
       "49        1\n",
       "60        1\n",
       "Name: ST_COLCODE, Length: 64, dtype: int64"
      ]
     },
     "execution_count": 62,
     "metadata": {},
     "output_type": "execute_result"
    }
   ],
   "source": [
    "df_features['ST_COLCODE'].value_counts(dropna=False)"
   ]
  },
  {
   "cell_type": "code",
   "execution_count": 63,
   "metadata": {},
   "outputs": [],
   "source": [
    "df_features = df_features[pd.to_numeric(df_features['ST_COLCODE'], errors='coerce').notnull()]\n",
    "df_features['ST_COLCODE'] = df_features['ST_COLCODE'].astype('int')"
   ]
  },
  {
   "cell_type": "code",
   "execution_count": 64,
   "metadata": {},
   "outputs": [
    {
     "data": {
      "text/plain": [
       "(194629, 17)"
      ]
     },
     "execution_count": 64,
     "metadata": {},
     "output_type": "execute_result"
    }
   ],
   "source": [
    "df_features.shape #lost rows, acceptable as we will be taking a smaller sample of rows further down"
   ]
  },
  {
   "cell_type": "code",
   "execution_count": 65,
   "metadata": {},
   "outputs": [],
   "source": [
    "df_features.drop('UNDERINFL',axis=1, inplace=True) # drop under the influence column due to poor data"
   ]
  },
  {
   "cell_type": "code",
   "execution_count": 66,
   "metadata": {},
   "outputs": [
    {
     "data": {
      "text/plain": [
       "PERSONCOUNT         int64\n",
       "PEDCOUNT            int64\n",
       "PEDCYLCOUNT         int64\n",
       "VEHCOUNT            int64\n",
       "INJURIES            int64\n",
       "SERIOUSINJURIES     int64\n",
       "FATALITIES          int64\n",
       "SDOT_COLCODE        int32\n",
       "INATTENTIONIND      int32\n",
       "SPEEDING            int32\n",
       "ST_COLCODE          int32\n",
       "MORNING             int32\n",
       "AFTERNOON           int32\n",
       "EVENING             int32\n",
       "NIGHT               int32\n",
       "SEVERITYCODE       object\n",
       "dtype: object"
      ]
     },
     "execution_count": 66,
     "metadata": {},
     "output_type": "execute_result"
    }
   ],
   "source": [
    "df_features.dtypes # dataframe ready to be used in machine learning model"
   ]
  },
  {
   "cell_type": "code",
   "execution_count": 67,
   "metadata": {},
   "outputs": [
    {
     "data": {
      "text/plain": [
       "1     133594\n",
       "2      57650\n",
       "2b      3046\n",
       "3        338\n",
       "0          1\n",
       "Name: SEVERITYCODE, dtype: int64"
      ]
     },
     "execution_count": 67,
     "metadata": {},
     "output_type": "execute_result"
    }
   ],
   "source": [
    "df_features['SEVERITYCODE'].value_counts() #We will now balance the labels, we will not use category '0'"
   ]
  },
  {
   "cell_type": "code",
   "execution_count": 68,
   "metadata": {},
   "outputs": [
    {
     "data": {
      "text/plain": [
       "(338, 16)"
      ]
     },
     "execution_count": 68,
     "metadata": {},
     "output_type": "execute_result"
    }
   ],
   "source": [
    "# Create new dataframes divided by category\n",
    "df_features1=df_features[(df_features['SEVERITYCODE']=='1')]\n",
    "df_features2=df_features[(df_features['SEVERITYCODE']=='2')]\n",
    "df_features2b=df_features[(df_features['SEVERITYCODE']=='2b')]\n",
    "df_features3=df_features[(df_features['SEVERITYCODE']=='3')]\n",
    "df_features3.shape # Check"
   ]
  },
  {
   "cell_type": "code",
   "execution_count": 69,
   "metadata": {},
   "outputs": [
    {
     "data": {
      "text/plain": [
       "(338, 16)"
      ]
     },
     "execution_count": 69,
     "metadata": {},
     "output_type": "execute_result"
    }
   ],
   "source": [
    "df_features1_new=df_features1.sample(338) # Balancing labels by taking random samples of each severity category,  \n",
    "df_features1_new.shape # each the same size as the samllest category (severity = 3)"
   ]
  },
  {
   "cell_type": "code",
   "execution_count": 70,
   "metadata": {},
   "outputs": [],
   "source": [
    "df_features2_new=df_features2.sample(338)\n",
    "df_features2b_new=df_features2b.sample(338)"
   ]
  },
  {
   "cell_type": "code",
   "execution_count": 71,
   "metadata": {},
   "outputs": [],
   "source": [
    "df_features1_new=df_features1_new.append(df_features2_new, ignore_index=True) # Add all dataframes together"
   ]
  },
  {
   "cell_type": "code",
   "execution_count": 72,
   "metadata": {},
   "outputs": [],
   "source": [
    "df_features1_new=df_features1_new.append(df_features2b_new, ignore_index=True)"
   ]
  },
  {
   "cell_type": "code",
   "execution_count": 73,
   "metadata": {},
   "outputs": [],
   "source": [
    "df_features1_new=df_features1_new.append(df_features3, ignore_index=True)"
   ]
  },
  {
   "cell_type": "code",
   "execution_count": 74,
   "metadata": {},
   "outputs": [
    {
     "data": {
      "text/plain": [
       "3     338\n",
       "1     338\n",
       "2     338\n",
       "2b    338\n",
       "Name: SEVERITYCODE, dtype: int64"
      ]
     },
     "execution_count": 74,
     "metadata": {},
     "output_type": "execute_result"
    }
   ],
   "source": [
    "df_features1_new['SEVERITYCODE'].value_counts() # new balanced dataframe"
   ]
  },
  {
   "cell_type": "code",
   "execution_count": 75,
   "metadata": {},
   "outputs": [],
   "source": [
    "df_features1_new=df_features1_new.sample(frac=1) #randomly shuffle dataframe"
   ]
  },
  {
   "cell_type": "code",
   "execution_count": 76,
   "metadata": {},
   "outputs": [
    {
     "data": {
      "text/plain": [
       "array([[ 2,  0,  0,  2,  0,  0,  0, 14,  0,  0, 14,  0,  0,  0,  1],\n",
       "       [ 2,  0,  0,  2,  0,  0,  0, 11,  0,  0, 71,  1,  0,  0,  0],\n",
       "       [ 4,  0,  0,  3,  1,  0,  1, 26,  0,  1, 50,  0,  0,  1,  0],\n",
       "       [ 2,  1,  1,  0,  2,  1,  0,  0,  0,  0, 45,  0,  1,  0,  0],\n",
       "       [ 2,  1,  0,  1,  0,  0,  1, 24,  0,  1,  0,  0,  0,  0,  1]],\n",
       "      dtype=int64)"
      ]
     },
     "execution_count": 76,
     "metadata": {},
     "output_type": "execute_result"
    }
   ],
   "source": [
    "# Turn dataframe into Numpy array for use in machine learning model\n",
    "X=df_features1_new[['PERSONCOUNT','PEDCOUNT', 'PEDCYLCOUNT', 'VEHCOUNT', 'INJURIES', 'SERIOUSINJURIES',\n",
    "              'FATALITIES','SDOT_COLCODE','INATTENTIONIND', 'SPEEDING', 'ST_COLCODE',\n",
    "              'MORNING', 'AFTERNOON', 'EVENING', 'NIGHT']].values\n",
    "X[0:5]"
   ]
  },
  {
   "cell_type": "code",
   "execution_count": 77,
   "metadata": {},
   "outputs": [
    {
     "data": {
      "text/plain": [
       "(1352, 15)"
      ]
     },
     "execution_count": 77,
     "metadata": {},
     "output_type": "execute_result"
    }
   ],
   "source": [
    "X.shape #1352 rows 15 columns/attributes"
   ]
  },
  {
   "cell_type": "code",
   "execution_count": 78,
   "metadata": {},
   "outputs": [
    {
     "data": {
      "text/plain": [
       "array(['1', '1', '3', '2b', '3'], dtype=object)"
      ]
     },
     "execution_count": 78,
     "metadata": {},
     "output_type": "execute_result"
    }
   ],
   "source": [
    "# Target variable Numpy array\n",
    "y=df_features1_new['SEVERITYCODE'].values\n",
    "y[0:5]"
   ]
  },
  {
   "cell_type": "code",
   "execution_count": 79,
   "metadata": {},
   "outputs": [
    {
     "data": {
      "text/plain": [
       "array([[-0.22335955, -0.49586616, -0.26091012,  0.33152869, -0.38995059,\n",
       "        -0.27558716, -0.53833428, -0.42247386, -0.37540414, -0.35722029,\n",
       "        -0.42701932, -0.49143257, -0.69576104, -0.53401414,  1.69854569],\n",
       "       [-0.22335955, -0.49586616, -0.26091012,  0.33152869, -0.38995059,\n",
       "        -0.27558716, -0.53833428, -0.75175018, -0.37540414, -0.35722029,\n",
       "         2.75956119,  2.03486717, -0.69576104, -0.53401414, -0.58873895],\n",
       "       [ 0.44622386, -0.49586616, -0.26091012,  1.59770608,  0.03694269,\n",
       "        -0.27558716,  1.47780962,  0.89463142, -0.37540414,  2.79939302,\n",
       "         1.58555784, -0.49143257, -0.69576104,  1.87260959, -0.58873895],\n",
       "       [-0.22335955,  1.57970984,  3.6585397 , -2.20082608,  0.46383597,\n",
       "         0.53793652, -0.53833428, -1.95909669, -0.37540414, -0.35722029,\n",
       "         1.30603324, -0.49143257,  1.43727507, -0.53401414, -0.58873895],\n",
       "       [-0.22335955,  1.57970984, -0.26091012, -0.93464869, -0.38995059,\n",
       "        -0.27558716,  1.47780962,  0.67511388, -0.37540414,  2.79939302,\n",
       "        -1.20968822, -0.49143257, -0.69576104, -0.53401414,  1.69854569]])"
      ]
     },
     "execution_count": 79,
     "metadata": {},
     "output_type": "execute_result"
    }
   ],
   "source": [
    "# Normalize Numpy array for model\n",
    "from sklearn import preprocessing\n",
    "X = preprocessing.StandardScaler().fit(X).transform(X.astype(float))\n",
    "X[0:5]"
   ]
  },
  {
   "cell_type": "code",
   "execution_count": 80,
   "metadata": {},
   "outputs": [
    {
     "name": "stdout",
     "output_type": "stream",
     "text": [
      "Train set: (1081, 15) (1081,)\n",
      "Test set: (271, 15) (271,)\n"
     ]
    }
   ],
   "source": [
    "# Create Training and Test Set from our data, split 80/20\n",
    "from sklearn.model_selection import train_test_split\n",
    "X_train, X_test, y_train, y_test = train_test_split(X, y, test_size=0.2, random_state=4)\n",
    "print ('Train set:', X_train.shape,  y_train.shape)\n",
    "print ('Test set:', X_test.shape,  y_test.shape)"
   ]
  },
  {
   "cell_type": "code",
   "execution_count": 81,
   "metadata": {},
   "outputs": [
    {
     "data": {
      "text/plain": [
       "array([0.87453875, 0.88929889, 0.87822878, 0.85608856, 0.84870849,\n",
       "       0.86346863, 0.87822878, 0.86346863, 0.8597786 ])"
      ]
     },
     "execution_count": 81,
     "metadata": {},
     "output_type": "execute_result"
    }
   ],
   "source": [
    "# Build K Nearest Neighbor (KNN) machine learning model\n",
    "# Find best value for k by iterating through and comparing the accuracy of k from 1-10\n",
    "from sklearn.neighbors import KNeighborsClassifier\n",
    "from sklearn import metrics\n",
    "Ks = 10\n",
    "mean_acc = np.zeros((Ks-1))\n",
    "for n in range(1,Ks):\n",
    "    \n",
    "    #Train Model and Predict  \n",
    "    neigh = KNeighborsClassifier(n_neighbors = n).fit(X_train,y_train)\n",
    "    yhat=neigh.predict(X_test)\n",
    "    mean_acc[n-1] = metrics.accuracy_score(y_test, yhat)\n",
    "\n",
    "mean_acc"
   ]
  },
  {
   "cell_type": "code",
   "execution_count": 82,
   "metadata": {},
   "outputs": [
    {
     "name": "stdout",
     "output_type": "stream",
     "text": [
      "The best accuracy was with 0.8892988929889298 with k= 2\n"
     ]
    }
   ],
   "source": [
    "print( \"The best accuracy was with\", mean_acc.max(), \"with k=\", mean_acc.argmax()+1) \n",
    "# at roughly this level of accuracy we do not need to use another machine learning model"
   ]
  },
  {
   "cell_type": "code",
   "execution_count": 86,
   "metadata": {},
   "outputs": [],
   "source": [
    "neigh = KNeighborsClassifier(n_neighbors = mean_acc.argmax()+1).fit(X_train,y_train)\n",
    "yhat=neigh.predict(X_test)"
   ]
  },
  {
   "cell_type": "markdown",
   "metadata": {},
   "source": [
    "### Evaluation"
   ]
  },
  {
   "cell_type": "code",
   "execution_count": 87,
   "metadata": {},
   "outputs": [
    {
     "name": "stderr",
     "output_type": "stream",
     "text": [
      "C:\\Users\\shane\\Downloads\\Python\\lib\\site-packages\\sklearn\\metrics\\classification.py:635: DeprecationWarning: jaccard_similarity_score has been deprecated and replaced with jaccard_score. It will be removed in version 0.23. This implementation has surprising behavior for binary and multiclass classification tasks.\n",
      "  'and multiclass classification tasks.', DeprecationWarning)\n"
     ]
    },
    {
     "data": {
      "text/plain": [
       "0.8892988929889298"
      ]
     },
     "execution_count": 87,
     "metadata": {},
     "output_type": "execute_result"
    }
   ],
   "source": [
    "# Jaccard Score\n",
    "from sklearn.metrics import jaccard_similarity_score\n",
    "jaccard_similarity_score(y_test, yhat)"
   ]
  },
  {
   "cell_type": "code",
   "execution_count": 88,
   "metadata": {},
   "outputs": [
    {
     "data": {
      "text/plain": [
       "0.89053300125552"
      ]
     },
     "execution_count": 88,
     "metadata": {},
     "output_type": "execute_result"
    }
   ],
   "source": [
    "# F1-Score\n",
    "from sklearn.metrics import f1_score\n",
    "f1_score(y_test, yhat, average='weighted') "
   ]
  }
 ],
 "metadata": {
  "kernelspec": {
   "display_name": "Python 3",
   "language": "python",
   "name": "python3"
  },
  "language_info": {
   "codemirror_mode": {
    "name": "ipython",
    "version": 3
   },
   "file_extension": ".py",
   "mimetype": "text/x-python",
   "name": "python",
   "nbconvert_exporter": "python",
   "pygments_lexer": "ipython3",
   "version": "3.7.4"
  }
 },
 "nbformat": 4,
 "nbformat_minor": 1
}
